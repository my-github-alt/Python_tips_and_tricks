{
 "cells": [
  {
   "cell_type": "markdown",
   "id": "7c83a6ca-f0a8-4883-b32c-d8da0dcfba7b",
   "metadata": {},
   "source": [
    "#### Python Tips & Tricks - sorteren met `functools.reduce` + `collections.defaultdict`"
   ]
  },
  {
   "cell_type": "code",
   "execution_count": 7,
   "id": "62b3093b-3a23-41cb-98f2-4a90c8ac4ef8",
   "metadata": {
    "collapsed": true,
    "jupyter": {
     "outputs_hidden": true
    },
    "tags": []
   },
   "outputs": [],
   "source": [
    "import collections\n",
    "import functools"
   ]
  },
  {
   "cell_type": "code",
   "execution_count": 5,
   "id": "fa088df5-1a67-4087-adee-457197f23a85",
   "metadata": {
    "collapsed": true,
    "jupyter": {
     "outputs_hidden": true
    }
   },
   "outputs": [],
   "source": [
    "def sorter(dict_list: dict[str, list], naam: str) -> dict:\n",
    "    eerste_letter, *_ = str(naam)\n",
    "    dict_list[eerste_letter].append(naam.strip())  # defaultdict\n",
    "    return dict_list"
   ]
  },
  {
   "cell_type": "code",
   "execution_count": 6,
   "id": "dfad69e7-22ce-4c8d-8c0a-16e5955649c9",
   "metadata": {
    "collapsed": true,
    "jupyter": {
     "outputs_hidden": true
    }
   },
   "outputs": [],
   "source": [
    "with open(\"namen.txt\", \"r\") as inhoud:\n",
    "    name_dict: dict[str, list] = functools.reduce(sorter,   inhoud,    collections.defaultdict(list))\n",
    "    #                            functools.reduce(function, sequence[, initial])"
   ]
  },
  {
   "cell_type": "code",
   "execution_count": 8,
   "id": "02bdb738-0e90-422f-86fd-689c60c99822",
   "metadata": {
    "collapsed": true,
    "jupyter": {
     "outputs_hidden": true
    },
    "tags": []
   },
   "outputs": [
    {
     "name": "stdout",
     "output_type": "stream",
     "text": [
      "Letter a: abelrai, allyson, alida, arnold, armonia\n",
      "Letter b: barrow, braga, bette, bleachclub, bevin\n",
      "Letter c: catalina, constanza, cecily, chocki, caron\n",
      "Letter d: drew, ducros, damini, dreamcatcher, dara\n",
      "Letter e: enfermera, els, edmundo, erich, ege\n",
      "Letter f: flora, ferreyra, francesca, farahnaz, falon\n",
      "Letter g: gareth, garrett, ginna, geckos, giacomo\n",
      "Letter h: hajjar, hans, huesped, hayes, honor\n",
      "Letter i: itzel, ishveena, ivo, ian, ivy\n",
      "Letter j: janie, jessica, jay, jenoveva, jochelson\n",
      "Letter k: kirsten, kripa, kay, kerisha, kitzberger\n",
      "Letter l: lynda, leckie, lynne, leyla, lisette\n",
      "Letter m: matthew, marcela, mafu, margie, myer\n",
      "Letter n: nalleli, nigel, nikki, nagy, nola\n",
      "Letter o: oona, ollie, oja, oswaldo, ofmara\n",
      "Letter p: phillippe, propina, pit, parrish, paddy\n",
      "Letter r: robyn, riki, robbin, richie, roisin\n",
      "Letter s: sabina, sheldon, summer, surrie, serdar\n",
      "Letter t: tali, t'nisha, tulik, tata, ted\n",
      "Letter u: ursula, ula, uzma, unders, ursina\n",
      "Letter v: via, velina, venture, vinita, viridiana\n",
      "Letter w: wang, walking, werner, will, walter\n",
      "Letter x: xomara, xasmin, ximena, xavier, xuan\n",
      "Letter y: yer, yev, yadira, yessica, yohara\n",
      "Letter z: zayan, zak, zachary, zuleica, zoi\n"
     ]
    }
   ],
   "source": [
    "from string import ascii_lowercase as alphabet\n",
    "\n",
    "for letter in alphabet:\n",
    "    if not (namen_lijst := name_dict.get(letter, False)):\n",
    "        continue\n",
    "    namen: str = \", \".join(namen_lijst[0:5])\n",
    "    print(f\"Letter {letter}: {namen}\")   # print eerste 5 namen van elke letter"
   ]
  },
  {
   "cell_type": "code",
   "execution_count": null,
   "id": "b9f93e10-7273-4807-b7ef-c276de8c95b6",
   "metadata": {
    "collapsed": true,
    "jupyter": {
     "outputs_hidden": true
    }
   },
   "outputs": [],
   "source": []
  }
 ],
 "metadata": {
  "kernelspec": {
   "display_name": "Python 3 (ipykernel)",
   "language": "python",
   "name": "python3"
  },
  "language_info": {
   "codemirror_mode": {
    "name": "ipython",
    "version": 3
   },
   "file_extension": ".py",
   "mimetype": "text/x-python",
   "name": "python",
   "nbconvert_exporter": "python",
   "pygments_lexer": "ipython3",
   "version": "3.9.7"
  }
 },
 "nbformat": 4,
 "nbformat_minor": 5
}
