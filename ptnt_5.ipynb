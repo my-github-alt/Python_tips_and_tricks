{
 "cells": [
  {
   "cell_type": "markdown",
   "id": "269ce160-57a5-40b6-9076-17af2d0cab37",
   "metadata": {},
   "source": [
    "#### Python Tips & Tricks - Python modules commandline applicaties"
   ]
  },
  {
   "cell_type": "markdown",
   "id": "8c0cd9e6-8a3c-4715-8b38-168d43908ab1",
   "metadata": {},
   "source": [
    "```\n",
    "C:\\>python --help\n",
    "usage: python [option] ... [-c cmd | -m mod | file | -] [arg] ...\n",
    "Options and arguments (and corresponding environment variables):\n",
    "...\n",
    "-m mod : run library module as a script\n",
    "...\n",
    "```"
   ]
  },
  {
   "cell_type": "code",
   "execution_count": 1,
   "id": "0eedd471-920f-4bde-a74e-c9b79a61c578",
   "metadata": {
    "collapsed": true,
    "jupyter": {
     "outputs_hidden": true
    },
    "tags": []
   },
   "outputs": [
    {
     "name": "stdout",
     "output_type": "stream",
     "text": [
      "usage: zipfile.py [-h]\n",
      "                  (-l <zipfile> | -e <zipfile> <output_dir> | -c <name> [<file> ...] | -t <zipfile>)\n",
      "\n",
      "A simple command-line interface for zipfile module.\n",
      "\n",
      "optional arguments:\n",
      "  -h, --help            show this help message and exit\n",
      "  -l <zipfile>, --list <zipfile>\n",
      "                        Show listing of a zipfile\n",
      "  -e <zipfile> <output_dir>, --extract <zipfile> <output_dir>\n",
      "                        Extract zipfile into target dir\n",
      "  -c <name> [<file> ...], --create <name> [<file> ...]\n",
      "                        Create zipfile from sources\n",
      "  -t <zipfile>, --test <zipfile>\n",
      "                        Test if a zipfile is valid\n"
     ]
    }
   ],
   "source": [
    "!python -m zipfile --help"
   ]
  },
  {
   "cell_type": "code",
   "execution_count": 2,
   "id": "576d4794-2897-4da5-9a4d-204c0170fd3f",
   "metadata": {
    "collapsed": true,
    "jupyter": {
     "outputs_hidden": true
    },
    "tags": []
   },
   "outputs": [
    {
     "name": "stderr",
     "output_type": "stream",
     "text": [
      "File Not Found\n"
     ]
    }
   ],
   "source": [
    "!dir *.zip /s /b"
   ]
  },
  {
   "cell_type": "code",
   "execution_count": 3,
   "id": "1f6734e3-17b6-4c82-8d64-db04bf3f7c6e",
   "metadata": {
    "collapsed": true,
    "jupyter": {
     "outputs_hidden": true
    },
    "tags": []
   },
   "outputs": [],
   "source": [
    "!python -m zipfile --create alarm.zip alarm.py namen.txt"
   ]
  },
  {
   "cell_type": "code",
   "execution_count": 4,
   "id": "1d54fba2-c1f9-4f70-bb7d-8e91e57908b6",
   "metadata": {
    "collapsed": true,
    "jupyter": {
     "outputs_hidden": true
    },
    "tags": []
   },
   "outputs": [
    {
     "name": "stdout",
     "output_type": "stream",
     "text": [
      "C:\\Users\\username\\Desktop\\Python_tips_and_tricks\\alarm.zip\n"
     ]
    }
   ],
   "source": [
    "!dir *.zip /s /b"
   ]
  },
  {
   "cell_type": "code",
   "execution_count": 5,
   "id": "0274738f-1291-4c6d-b950-1cdb1bccc7b3",
   "metadata": {
    "collapsed": true,
    "jupyter": {
     "outputs_hidden": true
    },
    "tags": []
   },
   "outputs": [
    {
     "name": "stdout",
     "output_type": "stream",
     "text": [
      "File Name                                             Modified             Size\n",
      "alarm.py                                       2021-10-21 22:19:52          375\n",
      "namen.txt                                      2021-10-21 21:57:42        32667\n"
     ]
    }
   ],
   "source": [
    "!python -m zipfile --list alarm.zip"
   ]
  }
 ],
 "metadata": {
  "kernelspec": {
   "display_name": "Python 3 (ipykernel)",
   "language": "python",
   "name": "python3"
  },
  "language_info": {
   "codemirror_mode": {
    "name": "ipython",
    "version": 3
   },
   "file_extension": ".py",
   "mimetype": "text/x-python",
   "name": "python",
   "nbconvert_exporter": "python",
   "pygments_lexer": "ipython3",
   "version": "3.9.7"
  }
 },
 "nbformat": 4,
 "nbformat_minor": 5
}
