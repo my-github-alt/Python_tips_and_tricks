{
 "cells": [
  {
   "cell_type": "markdown",
   "id": "12ac39ff-2c96-4113-8c2e-916587aa4efe",
   "metadata": {},
   "source": [
    "#### Python Tips & Tricks - een `dict` van twee lijsten doormiddel van `zip`"
   ]
  },
  {
   "cell_type": "code",
   "execution_count": 1,
   "id": "61a276bc-a24b-4772-8596-d5e022e6788d",
   "metadata": {
    "collapsed": true,
    "jupyter": {
     "outputs_hidden": true
    },
    "tags": []
   },
   "outputs": [],
   "source": [
    "kolom_namen = [\"plant\", \"kleur\", \"klimaat\"]\n",
    "regel_inhoud = [\"Clusia\", \"groen\", \"tropisch\"]"
   ]
  },
  {
   "cell_type": "code",
   "execution_count": 2,
   "id": "739b8be0-7044-4a8a-8e61-2e6274a45f06",
   "metadata": {
    "collapsed": true,
    "jupyter": {
     "outputs_hidden": true
    },
    "tags": []
   },
   "outputs": [
    {
     "data": {
      "text/plain": [
       "{'plant': 'Clusia', 'kleur': 'groen', 'klimaat': 'tropisch'}"
      ]
     },
     "execution_count": 2,
     "metadata": {},
     "output_type": "execute_result"
    }
   ],
   "source": [
    "plant_dict = {}\n",
    "\n",
    "for key, value in zip(kolom_namen, regel_inhoud):\n",
    "    plant_dict[key] = value\n",
    "\n",
    "plant_dict"
   ]
  },
  {
   "cell_type": "code",
   "execution_count": 3,
   "id": "7e77ff34-3dab-4279-9c7d-6ba8dd5ef643",
   "metadata": {
    "collapsed": true,
    "jupyter": {
     "outputs_hidden": true
    },
    "tags": []
   },
   "outputs": [
    {
     "data": {
      "text/plain": [
       "[('plant', 'Clusia'), ('kleur', 'groen'), ('klimaat', 'tropisch')]"
      ]
     },
     "execution_count": 3,
     "metadata": {},
     "output_type": "execute_result"
    }
   ],
   "source": [
    "zipped = zip(kolom_namen, regel_inhoud)\n",
    "list(zipped)"
   ]
  },
  {
   "cell_type": "code",
   "execution_count": 4,
   "id": "ab6ffda7-2593-45d4-9177-6c82d3cddb3b",
   "metadata": {
    "collapsed": true,
    "jupyter": {
     "outputs_hidden": true
    },
    "tags": []
   },
   "outputs": [
    {
     "data": {
      "text/plain": [
       "{'plant': 'Clusia', 'kleur': 'groen', 'klimaat': 'tropisch'}"
      ]
     },
     "execution_count": 4,
     "metadata": {},
     "output_type": "execute_result"
    }
   ],
   "source": [
    "zipped = [('plant', 'Clusia'), ('kleur', 'groen'), ('klimaat', 'tropisch')]\n",
    "dict(zipped)"
   ]
  },
  {
   "cell_type": "code",
   "execution_count": 5,
   "id": "5ab9eeb4-215a-499b-ba18-c7601a0d1534",
   "metadata": {
    "collapsed": true,
    "jupyter": {
     "outputs_hidden": true
    },
    "tags": []
   },
   "outputs": [
    {
     "data": {
      "text/plain": [
       "{'plant': 'Clusia', 'kleur': 'groen', 'klimaat': 'tropisch'}"
      ]
     },
     "execution_count": 5,
     "metadata": {},
     "output_type": "execute_result"
    }
   ],
   "source": [
    "dict(zip(kolom_namen, regel_inhoud))"
   ]
  },
  {
   "cell_type": "code",
   "execution_count": null,
   "id": "4ea144b2-1e21-4d75-a976-2ab78e24d963",
   "metadata": {
    "collapsed": true,
    "jupyter": {
     "outputs_hidden": true
    }
   },
   "outputs": [],
   "source": []
  }
 ],
 "metadata": {
  "kernelspec": {
   "display_name": "Python 3 (ipykernel)",
   "language": "python",
   "name": "python3"
  },
  "language_info": {
   "codemirror_mode": {
    "name": "ipython",
    "version": 3
   },
   "file_extension": ".py",
   "mimetype": "text/x-python",
   "name": "python",
   "nbconvert_exporter": "python",
   "pygments_lexer": "ipython3",
   "version": "3.9.7"
  }
 },
 "nbformat": 4,
 "nbformat_minor": 5
}
