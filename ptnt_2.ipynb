{
 "cells": [
  {
   "cell_type": "markdown",
   "id": "6feb90c4-0b39-4618-a622-a1c5b95db908",
   "metadata": {
    "tags": []
   },
   "source": [
    "#### Python Tips & Tricks - luidt een alarm met `print`"
   ]
  },
  {
   "cell_type": "markdown",
   "id": "b64e99d7-f052-487e-94ae-4b8c7c7a4db5",
   "metadata": {},
   "source": [
    "ASCII control characters  \n",
    "\\a ➤ 07 BEL  \n",
    "\\n ➤ 10 LF (line feed)  \n",
    "\\r ➤ 13 CR (carriage return)  "
   ]
  },
  {
   "cell_type": "code",
   "execution_count": 3,
   "id": "60286818-c7c3-43a9-854f-e38728a137c5",
   "metadata": {
    "collapsed": true,
    "jupyter": {
     "outputs_hidden": true
    },
    "tags": []
   },
   "outputs": [
    {
     "name": "stdout",
     "output_type": "stream",
     "text": [
      "import sys\n",
      "import time\n",
      "\n",
      "if len(sys.argv) > 1:\n",
      "    py_file, seconds = sys.argv[:2]\n",
      "else:\n",
      "    seconds: int = 1\n",
      "    \n",
      "try:\n",
      "    print(f\"alarm after {seconds} seconds\")\n",
      "    time.sleep(int(seconds))\n",
      "    while True:\n",
      "        print(\"alarm!\", '\\a')  # \\a is ASCII character nummer 07 (BELL)\n",
      "        time.sleep(0.75)\n",
      "except KeyboardInterrupt:  # CTRL + C\n",
      "    print(\"stop alarm\")\n",
      "    pass\n"
     ]
    }
   ],
   "source": [
    "with open(\"./alarm.py\", \"r\") as file:\n",
    "    print(file.read())"
   ]
  },
  {
   "cell_type": "code",
   "execution_count": 4,
   "id": "f6439946-7e31-43a7-85e4-f5502b3ce845",
   "metadata": {
    "collapsed": true,
    "jupyter": {
     "outputs_hidden": true
    },
    "tags": []
   },
   "outputs": [],
   "source": [
    "import os\n",
    "os.startfile(\"cmd\")"
   ]
  },
  {
   "cell_type": "code",
   "execution_count": null,
   "id": "7cb40d94-73d1-47c9-b531-0a2f130748ca",
   "metadata": {
    "collapsed": true,
    "jupyter": {
     "outputs_hidden": true
    },
    "tags": []
   },
   "outputs": [],
   "source": []
  }
 ],
 "metadata": {
  "kernelspec": {
   "display_name": "Python 3 (ipykernel)",
   "language": "python",
   "name": "python3"
  },
  "language_info": {
   "codemirror_mode": {
    "name": "ipython",
    "version": 3
   },
   "file_extension": ".py",
   "mimetype": "text/x-python",
   "name": "python",
   "nbconvert_exporter": "python",
   "pygments_lexer": "ipython3",
   "version": "3.9.7"
  }
 },
 "nbformat": 4,
 "nbformat_minor": 5
}
