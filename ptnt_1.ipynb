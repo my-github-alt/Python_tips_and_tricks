{
 "cells": [
  {
   "cell_type": "markdown",
   "id": "e66d8262-b64b-4b87-851f-f1c5d8e6141c",
   "metadata": {},
   "source": [
    "#### Python Tips & Tricks - for-loop met else statement"
   ]
  },
  {
   "cell_type": "code",
   "execution_count": 3,
   "id": "69d13c20-f405-4aa8-85d2-0039b5d39929",
   "metadata": {
    "collapsed": true,
    "jupyter": {
     "outputs_hidden": true
    },
    "tags": []
   },
   "outputs": [],
   "source": [
    "list_with_dicts: list[dict] = [\n",
    "    {\"naam\": \"tydeman\", \"leeftijd\": 23},\n",
    "    {\"naam\":  \"ofmara\", \"leeftijd\": 32},\n",
    "    {\"object\":  \"auto\",   \"wielen\": 4 },   # geen 'naam'-key\n",
    "    # {\"naam\":    \"ivor\", \"leeftijd\": 55},\n",
    "]"
   ]
  },
  {
   "cell_type": "code",
   "execution_count": 4,
   "id": "8ab4b975-085a-4f44-957e-0f52f122ae13",
   "metadata": {
    "collapsed": true,
    "jupyter": {
     "outputs_hidden": true
    },
    "tags": []
   },
   "outputs": [
    {
     "name": "stdout",
     "output_type": "stream",
     "text": [
      "'ivor' is gevonden\n"
     ]
    }
   ],
   "source": [
    "zoek_naam = \"ivor\"\n",
    "\n",
    "for person in list_with_dicts:\n",
    "    \n",
    "    naam = person.get(\"naam\", False)\n",
    "    if naam and naam == zoek_naam:\n",
    "        print(f\"{zoek_naam!r} is gevonden\")\n",
    "        naam_dict = person\n",
    "        break\n",
    "\n",
    "else:  # alleen als de for-loop geen break tegenkomt\n",
    "    naam_dict = {}\n",
    "    print(f\"{zoek_naam!r} is niet gevonden!\")"
   ]
  },
  {
   "cell_type": "code",
   "execution_count": 5,
   "id": "9343b410-1882-42a0-a730-0a7dc7cbbc77",
   "metadata": {
    "collapsed": true,
    "jupyter": {
     "outputs_hidden": true
    },
    "tags": []
   },
   "outputs": [
    {
     "data": {
      "text/plain": [
       "{'naam': 'ivor', 'leeftijd': 55}"
      ]
     },
     "execution_count": 5,
     "metadata": {},
     "output_type": "execute_result"
    }
   ],
   "source": [
    "naam_dict"
   ]
  },
  {
   "cell_type": "code",
   "execution_count": null,
   "id": "4d905cf2-8a81-40a8-a5c1-b7c0965a653c",
   "metadata": {
    "collapsed": true,
    "jupyter": {
     "outputs_hidden": true
    }
   },
   "outputs": [],
   "source": []
  }
 ],
 "metadata": {
  "kernelspec": {
   "display_name": "Python 3 (ipykernel)",
   "language": "python",
   "name": "python3"
  },
  "language_info": {
   "codemirror_mode": {
    "name": "ipython",
    "version": 3
   },
   "file_extension": ".py",
   "mimetype": "text/x-python",
   "name": "python",
   "nbconvert_exporter": "python",
   "pygments_lexer": "ipython3",
   "version": "3.9.7"
  }
 },
 "nbformat": 4,
 "nbformat_minor": 5
}
