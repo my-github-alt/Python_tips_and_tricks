{
 "cells": [
  {
   "cell_type": "markdown",
   "id": "f67a4116-4f58-4921-88ea-8b8e95809d5e",
   "metadata": {
    "tags": []
   },
   "source": [
    "#### Python Tips & Tricks - dict unpacking in een functie"
   ]
  },
  {
   "cell_type": "code",
   "execution_count": 7,
   "id": "a4efb345-58c7-467b-a7cc-e928ad4e2f2b",
   "metadata": {
    "collapsed": true,
    "jupyter": {
     "outputs_hidden": true
    },
    "tags": []
   },
   "outputs": [],
   "source": [
    "import json\n",
    "import operator"
   ]
  },
  {
   "cell_type": "code",
   "execution_count": 14,
   "id": "1eb84ddb-a91d-4fcf-9558-bf4ef78f7dc1",
   "metadata": {
    "collapsed": true,
    "jupyter": {
     "outputs_hidden": true
    },
    "tags": []
   },
   "outputs": [
    {
     "data": {
      "text/plain": [
       "3"
      ]
     },
     "execution_count": 14,
     "metadata": {},
     "output_type": "execute_result"
    }
   ],
   "source": [
    "# operator.add(1, 2)\n",
    "# 1 + 2\n",
    "getattr(operator, \"add\")(1, 2)"
   ]
  },
  {
   "cell_type": "code",
   "execution_count": 15,
   "id": "bdb8f2d7-51b3-48ce-b400-1af40dbabf33",
   "metadata": {
    "collapsed": true,
    "jupyter": {
     "outputs_hidden": true
    },
    "tags": []
   },
   "outputs": [],
   "source": [
    "def do_calc(operation: str, num_pair: list, **kwargs) -> dict:\n",
    "    func = getattr(operator, operation)  # operater.mul\n",
    "    print(func)\n",
    "    result = func(*num_pair)\n",
    "    return {\"result\": result}"
   ]
  },
  {
   "cell_type": "code",
   "execution_count": 18,
   "id": "cf2f9ce8-90a4-45bb-9b2d-3cb4aa5c9b95",
   "metadata": {
    "collapsed": true,
    "jupyter": {
     "outputs_hidden": true
    },
    "tags": []
   },
   "outputs": [
    {
     "data": {
      "text/plain": [
       "{'operation': 'add', 'num_pair': [1, 2]}"
      ]
     },
     "execution_count": 18,
     "metadata": {},
     "output_type": "execute_result"
    }
   ],
   "source": [
    "# JSON string verstuurd naar een web-calculator (server)\n",
    "\n",
    "json_string = '{\"operation\": \"add\", \"num_pair\": [1, 2]}'  # 1 + 2 = 3\n",
    "# json_string = '{\"operation\": \"mul\", \"num_pair\": [8, 8]}'  # 8 * 8 = 64\n",
    "\n",
    "response: dict = json.loads(json_string)  # parse de json naar dict\n",
    "response"
   ]
  },
  {
   "cell_type": "code",
   "execution_count": 19,
   "id": "419bd136-e5ec-4f78-92c3-362ff13650cd",
   "metadata": {
    "collapsed": true,
    "jupyter": {
     "outputs_hidden": true
    },
    "tags": []
   },
   "outputs": [
    {
     "name": "stdout",
     "output_type": "stream",
     "text": [
      "<built-in function add>\n"
     ]
    },
    {
     "data": {
      "text/plain": [
       "'{\"result\": 3}'"
      ]
     },
     "execution_count": 19,
     "metadata": {},
     "output_type": "execute_result"
    }
   ],
   "source": [
    "# dict unpacking met **notatie\n",
    "result: dict = do_calc(**response)\n",
    "\n",
    "# JSON string resultaat om te versturen naar de client\n",
    "json_payload: str = json.dumps(result)\n",
    "json_payload"
   ]
  },
  {
   "cell_type": "code",
   "execution_count": null,
   "id": "b1fa04b6-fa08-48c6-a5ca-6fe184cfc05d",
   "metadata": {
    "collapsed": true,
    "jupyter": {
     "outputs_hidden": true
    },
    "tags": []
   },
   "outputs": [],
   "source": []
  }
 ],
 "metadata": {
  "kernelspec": {
   "display_name": "Python 3 (ipykernel)",
   "language": "python",
   "name": "python3"
  },
  "language_info": {
   "codemirror_mode": {
    "name": "ipython",
    "version": 3
   },
   "file_extension": ".py",
   "mimetype": "text/x-python",
   "name": "python",
   "nbconvert_exporter": "python",
   "pygments_lexer": "ipython3",
   "version": "3.9.7"
  }
 },
 "nbformat": 4,
 "nbformat_minor": 5
}
